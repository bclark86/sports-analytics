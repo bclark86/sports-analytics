{
 "cells": [
  {
   "cell_type": "markdown",
   "id": "a0c56c3d-3285-4d8c-9f19-a8f22918f67a",
   "metadata": {},
   "source": [
    "# Competitive Balance in the NHL\n",
    "\n",
    "WORK-IN-PROGRESS\n",
    "\n",
    "## TL;DR\n",
    "\n",
    "### Question\n",
    "\n",
    ">Did the 2004-2005 lockout, and subsequent changes, impact the competitive balance of the NHL for the better?\n",
    "\n",
    "### Approach\n",
    "\n",
    ">Compare 1979-2004 seasons (expansion eras) to the 2006-2021 seasons (post lockout) using within-season variance as a proxy for competitive balance and a permuation test for significant difference.\n",
    "\n",
    "### Results\n",
    "\n",
    ">Competitive balance significantly decreased from XX to YY (a relative improvement of Z%)."
   ]
  },
  {
   "cell_type": "markdown",
   "id": "3eba0995-1abd-4fb6-8989-265ee550900d",
   "metadata": {},
   "source": [
    "## Question\n",
    "\n",
    "Our goal of this analysis is to understand if the 2004-2005 lockout, and subsequent changes to the CBA and league rules, impacted the competitive balance of the NHL. We will tackle an important highlights of the pre and post periods for our analysis, how we will define competitive balance quantitatively, and if the difference between eras is statistically significant. \n",
    "\n",
    "Ultimately, we want to answer the question: \n",
    "\n",
    ">Did the 2004-2005 lockout, and subsequent changes, impact the competitive balance of the NHL for the better?\n",
    "\n",
    "### Pre and Post Periods\n",
    "\n",
    "__Expansion Eras: 1979-1980 to 2003-2004__\n",
    "\n",
    "Major highlights.\n",
    "\n",
    "__Post Lockout Era: 2005-2006 to 2020-2021__\n",
    "\n",
    "Major rule changes. \n",
    "\n",
    "### Competitive Balance\n",
    "\n",
    "+ Within-season variation\n",
    "+ HHI (will this fail with teams moving in and out?)\n",
    "\n",
    "### Statistical Significance\n",
    "\n",
    "Permuation test\n",
    "\n",
    "## Data\n",
    "\n",
    "We are querying the history of the NHL standings using a helper function that connects to the NHL stats API. There isn't a ton of documentation, but this [repo](https://github.com/dword4/nhlapi) is a great place to start for understanding what is available. \n",
    "\n",
    "First we use a function to query the games played (GP) and point percentage for each team in a single season , and then we iterate through each season in history using that function to collect all historical results. \n",
    "\n",
    "### NHL API Call"
   ]
  },
  {
   "cell_type": "code",
   "execution_count": 1,
   "id": "57605a0d-bfc6-4994-a3ea-7fbe0b8ea0b8",
   "metadata": {},
   "outputs": [],
   "source": [
    "import requests\n",
    "from tqdm import tqdm\n",
    "import pandas as pd\n",
    "\n",
    "\n",
    "def fetch_season_summary(season: str):\n",
    "    \"\"\"\n",
    "    Query team standings for a given season.\n",
    "    \"\"\"\n",
    "    # dictionary holder for the season\n",
    "    season_standings = dict()\n",
    "\n",
    "    # api request\n",
    "    base_url = 'https://statsapi.web.nhl.com/api/v1/standings/byLeague'\n",
    "    season_id = f'?season={season}'\n",
    "    season = requests.get(base_url + season_id)\n",
    "    # throws an error for the missing lockout season\n",
    "    try:\n",
    "        season_records = season.json()['records'][0]\n",
    "\n",
    "        # extract results\n",
    "        season_standings['season'] = season_records['season']\n",
    "        season_standings['num_teams'] = len(season_records['teamRecords'])\n",
    "        results = [{\n",
    "            'team': team['team']['name'],\n",
    "            'gp': team['gamesPlayed'],\n",
    "            'points': team['points'],\n",
    "            'points_pct': team['pointsPercentage']\n",
    "        } for team in season_records['teamRecords']\n",
    "        ]\n",
    "        season_standings['standings_df'] = pd.DataFrame(results)\n",
    "        return season_standings\n",
    "    except Exception:\n",
    "        pass\n",
    "\n",
    "\n",
    "def fetch_season_history(start_season='19171918', end_season='20202021'):\n",
    "    \"\"\"\n",
    "    Query team standings for every season between start_season and end_season\n",
    "    (inclusive)\n",
    "    \"\"\"\n",
    "    # convert to ints for incrementing after each loop\n",
    "    start_season_start = int(start_season[:4])\n",
    "    start_season_end = int(start_season[-4:])\n",
    "    end_season_start = int(end_season[:4])\n",
    "    current_start = start_season_start\n",
    "    current_end = start_season_end\n",
    "    all_seasons = list()\n",
    "    for _ in tqdm(range(start_season_start, end_season_start + 1)):\n",
    "        season = str(current_start) + str(current_end)\n",
    "        season_dict = fetch_season_summary(season)\n",
    "        if season_dict is not None:\n",
    "            all_seasons.append(season_dict)\n",
    "        current_start += 1\n",
    "        current_end += 1\n",
    "    return all_seasons"
   ]
  },
  {
   "cell_type": "code",
   "execution_count": 2,
   "id": "ecf0106d-c15e-4b72-ac09-df2311dfb9e4",
   "metadata": {},
   "outputs": [
    {
     "name": "stderr",
     "output_type": "stream",
     "text": [
      "100%|██████████| 104/104 [00:06<00:00, 16.24it/s]\n"
     ]
    }
   ],
   "source": [
    "all_seasons = fetch_season_history('19171918', '20202021')"
   ]
  },
  {
   "cell_type": "markdown",
   "id": "62878eb9-cf3b-4035-bf87-1897388d01fb",
   "metadata": {},
   "source": [
    "The innagural NHL season was in 1917-1918 with four teams. We can see the results below. "
   ]
  },
  {
   "cell_type": "code",
   "execution_count": 3,
   "id": "beccea00-257f-4836-b880-b022260ba89d",
   "metadata": {},
   "outputs": [
    {
     "data": {
      "text/plain": [
       "{'season': '19171918',\n",
       " 'num_teams': 4,\n",
       " 'standings_df':                      team  gp  points  points_pct\n",
       " 0      Montréal Canadiens  22      26    0.590909\n",
       " 1          Toronto Arenas  22      26    0.590909\n",
       " 2  Ottawa Senators (1917)  22      18    0.409091\n",
       " 3      Montreal Wanderers   6       2    0.166667}"
      ]
     },
     "execution_count": 3,
     "metadata": {},
     "output_type": "execute_result"
    }
   ],
   "source": [
    "# list of dict for each season\n",
    "all_seasons[0]"
   ]
  },
  {
   "cell_type": "markdown",
   "id": "1917497b-d3cb-474e-97d7-fba66fb4c9e2",
   "metadata": {},
   "source": [
    "Despite our progress bar showing 104 seasons, we only have 103 for analysis as the 2004-2005 season was lost due to a lockout. "
   ]
  },
  {
   "cell_type": "code",
   "execution_count": 4,
   "id": "1b7685a8-0b31-4fe4-b891-4c831fb320b7",
   "metadata": {},
   "outputs": [
    {
     "name": "stdout",
     "output_type": "stream",
     "text": [
      "Total seasons: 103\n"
     ]
    }
   ],
   "source": [
    "print(f'Total seasons: {len(all_seasons)}')"
   ]
  },
  {
   "cell_type": "markdown",
   "id": "75fadb67-319d-447c-9ef9-8c9e4c528672",
   "metadata": {},
   "source": [
    "### Competitive Balance\n",
    "\n",
    "There are two metrics we will use to analyze competitive balance:\n",
    "\n",
    "1. Within-season variation (regular season)\n",
    "2. HHI (championships)"
   ]
  },
  {
   "cell_type": "code",
   "execution_count": 5,
   "id": "e0185ad6-30c5-4a89-a705-0d523c2d8660",
   "metadata": {},
   "outputs": [],
   "source": [
    "import numpy as np\n",
    "\n",
    "def calculate_within_season_var(standings_df: pd.DataFrame):\n",
    "    \"\"\"\n",
    "    Calculate competitive balance for the season. This assumes that the ideal\n",
    "    point percentage is the average point percentage for the season, which may\n",
    "    not be 0.5.\n",
    "    \"\"\"\n",
    "    actual_std = standings_df.points_pct.std(ddof=0)\n",
    "    # weighted average to account for differences in games played\n",
    "    point_pct_avg = standings_df.points.sum() / (standings_df.gp.sum() * 2)\n",
    "    gp = standings_df.gp.mean()\n",
    "    ideal_std = np.sqrt((point_pct_avg * (1-point_pct_avg))) / np.sqrt(gp)\n",
    "    return {\n",
    "        'gp': gp,\n",
    "        'point_pct_avg': point_pct_avg,\n",
    "        'actual_std': actual_std,\n",
    "        'ideal_std': ideal_std,\n",
    "        'ratio': actual_std / ideal_std\n",
    "    }"
   ]
  },
  {
   "cell_type": "markdown",
   "id": "05892508-4787-4638-9727-b8c44a96d30f",
   "metadata": {},
   "source": [
    "For each iteration in the list comprehension, we extract the season label and then unpack the competitive balance dictionary result. The results for each season are stored as a pandas dataframe. "
   ]
  },
  {
   "cell_type": "code",
   "execution_count": 6,
   "id": "0c374225-d6d2-417e-8d36-11e206d36c4e",
   "metadata": {},
   "outputs": [],
   "source": [
    "competitive_balance_df = pd.DataFrame([\n",
    "    {\n",
    "        'season': season['season'],\n",
    "        'num_teams': season['num_teams'],\n",
    "        **calculate_within_season_var(season['standings_df'])\n",
    "    }\n",
    "    for season in all_seasons\n",
    "])"
   ]
  },
  {
   "cell_type": "code",
   "execution_count": 7,
   "id": "c8c59754-43e6-4bb0-a906-f8004230f9e2",
   "metadata": {},
   "outputs": [
    {
     "name": "stdout",
     "output_type": "stream",
     "text": [
      "<class 'pandas.core.frame.DataFrame'>\n",
      "RangeIndex: 103 entries, 0 to 102\n",
      "Data columns (total 7 columns):\n",
      " #   Column         Non-Null Count  Dtype  \n",
      "---  ------         --------------  -----  \n",
      " 0   season         103 non-null    object \n",
      " 1   num_teams      103 non-null    int64  \n",
      " 2   gp             103 non-null    float64\n",
      " 3   point_pct_avg  103 non-null    float64\n",
      " 4   actual_std     103 non-null    float64\n",
      " 5   ideal_std      103 non-null    float64\n",
      " 6   ratio          103 non-null    float64\n",
      "dtypes: float64(5), int64(1), object(1)\n",
      "memory usage: 5.8+ KB\n"
     ]
    }
   ],
   "source": [
    "competitive_balance_df.info()"
   ]
  },
  {
   "cell_type": "markdown",
   "id": "c63ace90-64ce-4a81-88c4-4c2e5d89362e",
   "metadata": {},
   "source": [
    "We can see the first few seasons had very little teams and games played. "
   ]
  },
  {
   "cell_type": "code",
   "execution_count": 8,
   "id": "e31e6416-7135-4d3d-931e-f30470d8824b",
   "metadata": {},
   "outputs": [
    {
     "data": {
      "text/html": [
       "<div>\n",
       "<style scoped>\n",
       "    .dataframe tbody tr th:only-of-type {\n",
       "        vertical-align: middle;\n",
       "    }\n",
       "\n",
       "    .dataframe tbody tr th {\n",
       "        vertical-align: top;\n",
       "    }\n",
       "\n",
       "    .dataframe thead th {\n",
       "        text-align: right;\n",
       "    }\n",
       "</style>\n",
       "<table border=\"1\" class=\"dataframe\">\n",
       "  <thead>\n",
       "    <tr style=\"text-align: right;\">\n",
       "      <th></th>\n",
       "      <th>season</th>\n",
       "      <th>num_teams</th>\n",
       "      <th>gp</th>\n",
       "      <th>point_pct_avg</th>\n",
       "      <th>actual_std</th>\n",
       "      <th>ideal_std</th>\n",
       "      <th>ratio</th>\n",
       "    </tr>\n",
       "  </thead>\n",
       "  <tbody>\n",
       "    <tr>\n",
       "      <th>0</th>\n",
       "      <td>19171918</td>\n",
       "      <td>4</td>\n",
       "      <td>18.0</td>\n",
       "      <td>0.5</td>\n",
       "      <td>0.174078</td>\n",
       "      <td>0.117851</td>\n",
       "      <td>1.477098</td>\n",
       "    </tr>\n",
       "    <tr>\n",
       "      <th>1</th>\n",
       "      <td>19181919</td>\n",
       "      <td>3</td>\n",
       "      <td>18.0</td>\n",
       "      <td>0.5</td>\n",
       "      <td>0.163551</td>\n",
       "      <td>0.117851</td>\n",
       "      <td>1.387777</td>\n",
       "    </tr>\n",
       "    <tr>\n",
       "      <th>2</th>\n",
       "      <td>19191920</td>\n",
       "      <td>4</td>\n",
       "      <td>24.0</td>\n",
       "      <td>0.5</td>\n",
       "      <td>0.222439</td>\n",
       "      <td>0.102062</td>\n",
       "      <td>2.179449</td>\n",
       "    </tr>\n",
       "    <tr>\n",
       "      <th>3</th>\n",
       "      <td>19201921</td>\n",
       "      <td>4</td>\n",
       "      <td>24.0</td>\n",
       "      <td>0.5</td>\n",
       "      <td>0.147314</td>\n",
       "      <td>0.102062</td>\n",
       "      <td>1.443376</td>\n",
       "    </tr>\n",
       "    <tr>\n",
       "      <th>4</th>\n",
       "      <td>19211922</td>\n",
       "      <td>4</td>\n",
       "      <td>24.0</td>\n",
       "      <td>0.5</td>\n",
       "      <td>0.125865</td>\n",
       "      <td>0.102062</td>\n",
       "      <td>1.233221</td>\n",
       "    </tr>\n",
       "  </tbody>\n",
       "</table>\n",
       "</div>"
      ],
      "text/plain": [
       "     season  num_teams    gp  point_pct_avg  actual_std  ideal_std     ratio\n",
       "0  19171918          4  18.0            0.5    0.174078   0.117851  1.477098\n",
       "1  19181919          3  18.0            0.5    0.163551   0.117851  1.387777\n",
       "2  19191920          4  24.0            0.5    0.222439   0.102062  2.179449\n",
       "3  19201921          4  24.0            0.5    0.147314   0.102062  1.443376\n",
       "4  19211922          4  24.0            0.5    0.125865   0.102062  1.233221"
      ]
     },
     "execution_count": 8,
     "metadata": {},
     "output_type": "execute_result"
    }
   ],
   "source": [
    "competitive_balance_df.head()"
   ]
  },
  {
   "cell_type": "markdown",
   "id": "d8676fa7-3278-466e-890e-8f658489b116",
   "metadata": {},
   "source": [
    "The most recent seasons were cut short due to COVID-19 and had a higher average points percentage due to points for overtime losses. "
   ]
  },
  {
   "cell_type": "code",
   "execution_count": 9,
   "id": "98a7ce99-e798-4c65-80d0-edf0537c0fe4",
   "metadata": {},
   "outputs": [
    {
     "data": {
      "text/html": [
       "<div>\n",
       "<style scoped>\n",
       "    .dataframe tbody tr th:only-of-type {\n",
       "        vertical-align: middle;\n",
       "    }\n",
       "\n",
       "    .dataframe tbody tr th {\n",
       "        vertical-align: top;\n",
       "    }\n",
       "\n",
       "    .dataframe thead th {\n",
       "        text-align: right;\n",
       "    }\n",
       "</style>\n",
       "<table border=\"1\" class=\"dataframe\">\n",
       "  <thead>\n",
       "    <tr style=\"text-align: right;\">\n",
       "      <th></th>\n",
       "      <th>season</th>\n",
       "      <th>num_teams</th>\n",
       "      <th>gp</th>\n",
       "      <th>point_pct_avg</th>\n",
       "      <th>actual_std</th>\n",
       "      <th>ideal_std</th>\n",
       "      <th>ratio</th>\n",
       "    </tr>\n",
       "  </thead>\n",
       "  <tbody>\n",
       "    <tr>\n",
       "      <th>98</th>\n",
       "      <td>20162017</td>\n",
       "      <td>30</td>\n",
       "      <td>82.000000</td>\n",
       "      <td>0.558740</td>\n",
       "      <td>0.090735</td>\n",
       "      <td>0.054833</td>\n",
       "      <td>1.654746</td>\n",
       "    </tr>\n",
       "    <tr>\n",
       "      <th>99</th>\n",
       "      <td>20172018</td>\n",
       "      <td>31</td>\n",
       "      <td>82.000000</td>\n",
       "      <td>0.558222</td>\n",
       "      <td>0.092602</td>\n",
       "      <td>0.054840</td>\n",
       "      <td>1.688573</td>\n",
       "    </tr>\n",
       "    <tr>\n",
       "      <th>100</th>\n",
       "      <td>20182019</td>\n",
       "      <td>31</td>\n",
       "      <td>82.000000</td>\n",
       "      <td>0.553304</td>\n",
       "      <td>0.081895</td>\n",
       "      <td>0.054901</td>\n",
       "      <td>1.491679</td>\n",
       "    </tr>\n",
       "    <tr>\n",
       "      <th>101</th>\n",
       "      <td>20192020</td>\n",
       "      <td>31</td>\n",
       "      <td>69.806452</td>\n",
       "      <td>0.557763</td>\n",
       "      <td>0.084668</td>\n",
       "      <td>0.059444</td>\n",
       "      <td>1.424336</td>\n",
       "    </tr>\n",
       "    <tr>\n",
       "      <th>102</th>\n",
       "      <td>20202021</td>\n",
       "      <td>31</td>\n",
       "      <td>56.000000</td>\n",
       "      <td>0.556164</td>\n",
       "      <td>0.115598</td>\n",
       "      <td>0.066392</td>\n",
       "      <td>1.741138</td>\n",
       "    </tr>\n",
       "  </tbody>\n",
       "</table>\n",
       "</div>"
      ],
      "text/plain": [
       "       season  num_teams         gp  point_pct_avg  actual_std  ideal_std  \\\n",
       "98   20162017         30  82.000000       0.558740    0.090735   0.054833   \n",
       "99   20172018         31  82.000000       0.558222    0.092602   0.054840   \n",
       "100  20182019         31  82.000000       0.553304    0.081895   0.054901   \n",
       "101  20192020         31  69.806452       0.557763    0.084668   0.059444   \n",
       "102  20202021         31  56.000000       0.556164    0.115598   0.066392   \n",
       "\n",
       "        ratio  \n",
       "98   1.654746  \n",
       "99   1.688573  \n",
       "100  1.491679  \n",
       "101  1.424336  \n",
       "102  1.741138  "
      ]
     },
     "execution_count": 9,
     "metadata": {},
     "output_type": "execute_result"
    }
   ],
   "source": [
    "competitive_balance_df.tail()"
   ]
  },
  {
   "cell_type": "markdown",
   "id": "fa1b5f41-3ff2-4a41-927c-fb2e5563c196",
   "metadata": {},
   "source": [
    "### Analysis Periods"
   ]
  },
  {
   "cell_type": "code",
   "execution_count": 10,
   "id": "febfb79c-e3c0-4d1e-8418-a0c989cdc91c",
   "metadata": {},
   "outputs": [],
   "source": [
    "def assign_period(season):\n",
    "    if season < '19791980':\n",
    "        return 'other'\n",
    "    elif season < '20052006':\n",
    "        return 'expansion'   \n",
    "    else:\n",
    "        return 'post-lockout'\n",
    "    \n",
    "competitive_balance_df['period'] = competitive_balance_df.season.apply(assign_period)"
   ]
  },
  {
   "cell_type": "markdown",
   "id": "41839c16-a8d5-462e-a95b-c7c96193c2b1",
   "metadata": {},
   "source": [
    "Using our defined periods, we have 25 expansion era seasons and 16 post-lockout seasons."
   ]
  },
  {
   "cell_type": "code",
   "execution_count": 11,
   "id": "6bedea36-b814-442a-b4f6-cc89a0cc1e97",
   "metadata": {},
   "outputs": [
    {
     "data": {
      "text/html": [
       "<div>\n",
       "<style scoped>\n",
       "    .dataframe tbody tr th:only-of-type {\n",
       "        vertical-align: middle;\n",
       "    }\n",
       "\n",
       "    .dataframe tbody tr th {\n",
       "        vertical-align: top;\n",
       "    }\n",
       "\n",
       "    .dataframe thead th {\n",
       "        text-align: right;\n",
       "    }\n",
       "</style>\n",
       "<table border=\"1\" class=\"dataframe\">\n",
       "  <thead>\n",
       "    <tr style=\"text-align: right;\">\n",
       "      <th></th>\n",
       "      <th>seasons</th>\n",
       "      <th>teams</th>\n",
       "      <th>point_pct_avg</th>\n",
       "      <th>ratio</th>\n",
       "    </tr>\n",
       "    <tr>\n",
       "      <th>period</th>\n",
       "      <th></th>\n",
       "      <th></th>\n",
       "      <th></th>\n",
       "      <th></th>\n",
       "    </tr>\n",
       "  </thead>\n",
       "  <tbody>\n",
       "    <tr>\n",
       "      <th>expansion</th>\n",
       "      <td>25.0</td>\n",
       "      <td>24.120000</td>\n",
       "      <td>0.505425</td>\n",
       "      <td>1.856610</td>\n",
       "    </tr>\n",
       "    <tr>\n",
       "      <th>other</th>\n",
       "      <td>62.0</td>\n",
       "      <td>8.258065</td>\n",
       "      <td>0.500000</td>\n",
       "      <td>1.846821</td>\n",
       "    </tr>\n",
       "    <tr>\n",
       "      <th>post-lockout</th>\n",
       "      <td>16.0</td>\n",
       "      <td>30.250000</td>\n",
       "      <td>0.558143</td>\n",
       "      <td>1.535151</td>\n",
       "    </tr>\n",
       "  </tbody>\n",
       "</table>\n",
       "</div>"
      ],
      "text/plain": [
       "              seasons      teams  point_pct_avg     ratio\n",
       "period                                                   \n",
       "expansion        25.0  24.120000       0.505425  1.856610\n",
       "other            62.0   8.258065       0.500000  1.846821\n",
       "post-lockout     16.0  30.250000       0.558143  1.535151"
      ]
     },
     "execution_count": 11,
     "metadata": {},
     "output_type": "execute_result"
    }
   ],
   "source": [
    "def summary(x):\n",
    "    results = {\n",
    "        'seasons': x.season.count(),\n",
    "        'teams': x.num_teams.mean(),\n",
    "        'point_pct_avg': x.point_pct_avg.mean(),\n",
    "        'ratio': x.ratio.mean()\n",
    "    }\n",
    "    return pd.Series(results)\n",
    "\n",
    "\n",
    "competitive_balance_df.groupby('period').apply(summary)"
   ]
  },
  {
   "cell_type": "markdown",
   "id": "e9b3d53b-f740-4689-9c33-6f0e0388a5d4",
   "metadata": {},
   "source": [
    "## Exploration\n",
    "\n",
    "To facilitate plotting, we'll extract the last 4 characters from the `season` variable to represent the year. "
   ]
  },
  {
   "cell_type": "code",
   "execution_count": 12,
   "id": "03fc31bc-3390-446e-869c-15ab8ad71135",
   "metadata": {},
   "outputs": [],
   "source": [
    "competitive_balance_df['year'] = competitive_balance_df['season'].str[-4:].astype(int)"
   ]
  },
  {
   "cell_type": "markdown",
   "id": "3f450c4e-6c7e-4f3c-bea8-736c32d988ae",
   "metadata": {},
   "source": [
    "### Historical Competitive Balance"
   ]
  },
  {
   "cell_type": "markdown",
   "id": "22f2c8ad-22fd-42c2-acbd-06ac7466f98f",
   "metadata": {},
   "source": [
    "First, we'll take a look at how competitive balance has changed throughout the history of the leauge. "
   ]
  },
  {
   "cell_type": "code",
   "execution_count": 13,
   "id": "ee5f333b-2fcb-461b-8a3b-7db83e75076b",
   "metadata": {},
   "outputs": [
    {
     "data": {
      "image/png": "[encoded data removed]",
      "text/plain": [
       "<Figure size 640x480 with 1 Axes>"
      ]
     },
     "metadata": {},
     "output_type": "display_data"
    },
    {
     "data": {
      "text/plain": [
       "<ggplot: (8772941740990)>"
      ]
     },
     "execution_count": 13,
     "metadata": {},
     "output_type": "execute_result"
    }
   ],
   "source": [
    "import plotnine as p9\n",
    "\n",
    "historical_pl(\n",
    "    p9.ggplot(competitive_balance_df, p9.aes('year', 'ratio', color='period'))\n",
    "    + p9.geom_point(alpha=1/3)\n",
    "    + p9.geom_line()\n",
    "    + p9.scale_x_continuous(breaks=np.arange(1920, 2021, 20))\n",
    "    + p9.scale_color_manual(\n",
    "        breaks=['other', 'expansion', 'post-lockout'],\n",
    "        values=['#999999', '#FF9900', '#333333']\n",
    "    )\n",
    "    + p9.labs(\n",
    "        title='Competitive Balance Ratio',\n",
    "        x='Season',\n",
    "        y='Ratio',\n",
    "        color='Period'\n",
    "    )\n",
    "    + p9.guides(\n",
    "        \n",
    "    )\n",
    "    + p9.theme_bw()\n",
    ")"
   ]
  },
  {
   "cell_type": "markdown",
   "id": "86a8a2ec-9f5e-4f83-8ab1-a382775f7658",
   "metadata": {},
   "source": [
    "### Expansion Era vs. Post-Lockout"
   ]
  },
  {
   "cell_type": "markdown",
   "id": "bef16567-859f-4361-bb12-a5007fe0c220",
   "metadata": {},
   "source": [
    "Let's zoom in on the two periods of interest. "
   ]
  },
  {
   "cell_type": "code",
   "execution_count": 14,
   "id": "b30fe561-660c-4719-aa68-ff4ae6280748",
   "metadata": {},
   "outputs": [
    {
     "name": "stdout",
     "output_type": "stream",
     "text": [
      "Competitive Balance Ratio\n",
      "-------------------------\n",
      "Expansion: 1.86 (0.30)\n",
      "Post-Lockout: 1.54 (0.19)\n"
     ]
    }
   ],
   "source": [
    "analysis_df = competitive_balance_df.query('season > \"19781989\"')\n",
    "\n",
    "# extract means\n",
    "expansion = analysis_df.query('period == \"expansion\"').ratio.values\n",
    "post_lockout = analysis_df.query('period == \"post-lockout\"').ratio.values\n",
    "\n",
    "print('Competitive Balance Ratio')\n",
    "print('-' * 25)\n",
    "print(f'Expansion: {expansion.mean():.2F} ({expansion.std():.2F})')\n",
    "print(f'Post-Lockout: {post_lockout.mean():.2F} ({post_lockout.std():.2F})')"
   ]
  },
  {
   "cell_type": "code",
   "execution_count": 40,
   "id": "8eae0f8b-702b-44ef-9dc3-2b4bf68846a9",
   "metadata": {},
   "outputs": [
    {
     "data": {
      "image/png": "[encoded data removed]",
      "text/plain": [
       "<Figure size 640x480 with 1 Axes>"
      ]
     },
     "metadata": {},
     "output_type": "display_data"
    }
   ],
   "source": [
    "analysis_plot = (\n",
    "    p9.ggplot(analysis_df, p9.aes('year', 'ratio', color='period'))\n",
    "    + p9.geom_point(alpha=1/3)\n",
    "    + p9.geom_line()\n",
    "    + p9.scale_x_continuous(breaks=np.arange(1920, 2021, 10))\n",
    "    + p9.scale_color_manual(\n",
    "        breaks=['expansion', 'post-lockout'],\n",
    "        values=['#FF9900', '#333333']\n",
    "    )\n",
    "    + p9.labs(\n",
    "        title='Competitive Balance Ratio',\n",
    "        x='Season',\n",
    "        y='Ratio',\n",
    "        color='Period'\n",
    "    )\n",
    "    + p9.annotate(\n",
    "        'text',\n",
    "        x=1991,\n",
    "        y=2.2,\n",
    "        label=f'{expansion.mean():.2F}',\n",
    "        fontweight='bold',\n",
    "        ha='right',\n",
    "        size=11,\n",
    "        color='#FF9900'\n",
    "    )\n",
    "    + p9.annotate(\n",
    "        'text',\n",
    "        x=2015,\n",
    "        y=1.9,\n",
    "        label=f'{post_lockout.mean():.2F}',\n",
    "        fontweight='bold',\n",
    "        ha='right',\n",
    "        size=11,\n",
    "        color='#333333'\n",
    "    )\n",
    "    + p9.theme_bw()\n",
    ")\n",
    "\n",
    "analysis_plot.draw();"
   ]
  },
  {
   "cell_type": "markdown",
   "id": "2f4345c3-19c0-49f8-a902-21408dd2acef",
   "metadata": {},
   "source": [
    "## Modeling\n",
    "\n",
    "https://matthew-brett.github.io/cfd2019/chapters/05/permutation_and_t_test\n",
    "\n",
    "+ Permuatation test for within-season variance\n",
    "+ permuation test for HHI\n",
    "\n",
    "1. Function to calculate metric (HHI only)\n",
    "2. Observed difference\n",
    "3. Combine arrays\n",
    "4. Permute and caculate\n",
    "5. Analyze distribution"
   ]
  },
  {
   "cell_type": "markdown",
   "id": "c36cb3a5-c094-47e6-8c30-1f5ea810420d",
   "metadata": {},
   "source": [
    "### Permutation Test"
   ]
  },
  {
   "cell_type": "code",
   "execution_count": 16,
   "id": "8131f48a-f4f8-43e7-b596-c47a3e118fa2",
   "metadata": {},
   "outputs": [
    {
     "name": "stdout",
     "output_type": "stream",
     "text": [
      "Observed Difference: -0.32\n"
     ]
    }
   ],
   "source": [
    "observed_difference = post_lockout.mean() - expansion.mean()\n",
    "print(f'Observed Difference: {observed_difference:.2F}')"
   ]
  },
  {
   "cell_type": "code",
   "execution_count": 17,
   "id": "3f8e5a76-1a9f-43a6-8edc-1ec7856428d0",
   "metadata": {},
   "outputs": [],
   "source": [
    "def permutation_test(samples_a, samples_b, n_iters=10000):\n",
    "    pooled = np.append(samples_a, samples_b)\n",
    "    random_differences = np.zeros(n_iters)\n",
    "    N_b = samples_b.size\n",
    "    for i in range(n_iters):\n",
    "        np.random.shuffle(pooled)\n",
    "        random_differences[i] = np.mean(pooled[:N_b]) - np.mean(pooled[N_b:])\n",
    "    return pd.DataFrame(dict(difference=random_differences))"
   ]
  },
  {
   "cell_type": "code",
   "execution_count": 39,
   "id": "13bca030-f68f-41d5-a4f6-4b5f63049785",
   "metadata": {},
   "outputs": [
    {
     "data": {
      "image/png": "[encoded data removed]",
      "text/plain": [
       "<Figure size 640x480 with 1 Axes>"
      ]
     },
     "metadata": {},
     "output_type": "display_data"
    }
   ],
   "source": [
    "np.random.seed(90)\n",
    "\n",
    "perm_test_df = permutation_test(expansion, post_lockout)\n",
    "\n",
    "perm_plot = (\n",
    "    p9.ggplot(perm_test_df, p9.aes('difference'))\n",
    "    + p9.geom_histogram(bins=50, fill='#CCCCCC', color='grey')\n",
    "    + p9.geom_vline(xintercept=observed_difference, linetype='dashed')\n",
    "    +p9.labs(\n",
    "        title='Permuation Results',\n",
    "        x='Difference in Means (Null Hypothesis)',\n",
    "        y='# of Trials'\n",
    "    )\n",
    "    + p9.theme_bw()\n",
    "    + p9.annotate(\n",
    "        'text',\n",
    "        x=-0.3,\n",
    "        y=550,\n",
    "        label='Observed Difference',\n",
    "        ha='left',\n",
    "        size=10,\n",
    "        color='#333333'\n",
    "    )\n",
    "    + p9.geom_segment(\n",
    "        x =-0.2,\n",
    "        y=525, \n",
    "        xend=observed_difference+0.025,\n",
    "        yend=450,\n",
    "        color='grey',\n",
    "        alpha=0.75,\n",
    "        arrow=p9.arrow(angle=30, length=0.1, ends='last', type='open'),\n",
    "    )\n",
    ")\n",
    "\n",
    "perm_plot.draw();"
   ]
  },
  {
   "cell_type": "code",
   "execution_count": 20,
   "id": "fcd66926-991d-43cd-944b-47ed819edfad",
   "metadata": {},
   "outputs": [
    {
     "name": "stdout",
     "output_type": "stream",
     "text": [
      "Under the Null Hypothesis:\n",
      "The probability of a difference as extreme or more is 0.0006\n"
     ]
    }
   ],
   "source": [
    "# two-sided test\n",
    "p_val = np.mean(perm_test_df.difference.abs() >= np.abs(observed_difference))\n",
    "print('Under the Null Hypothesis:')\n",
    "print(f'The probability of a difference as extreme or more is {p_val}')"
   ]
  },
  {
   "cell_type": "markdown",
   "id": "c3cc2352-5ebb-451c-9209-6f9309ec21af",
   "metadata": {},
   "source": [
    "## Results\n",
    "\n",
    "Summarize the findings"
   ]
  }
 ],
 "metadata": {
  "kernelspec": {
   "display_name": "sports-analytics",
   "language": "python",
   "name": "sports-analytics"
  },
  "language_info": {
   "codemirror_mode": {
    "name": "ipython",
    "version": 3
   },
   "file_extension": ".py",
   "mimetype": "text/x-python",
   "name": "python",
   "nbconvert_exporter": "python",
   "pygments_lexer": "ipython3",
   "version": "3.8.10"
  }
 },
 "nbformat": 4,
 "nbformat_minor": 5
}
