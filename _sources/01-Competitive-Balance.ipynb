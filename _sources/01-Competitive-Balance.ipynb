{
 "cells": [
  {
   "cell_type": "markdown",
   "id": "a0c56c3d-3285-4d8c-9f19-a8f22918f67a",
   "metadata": {},
   "source": [
    "# Competitive Balance in the NHL\n",
    "\n",
    "WORK-IN-PROGRESS\n",
    "\n",
    "## Goal\n",
    "\n",
    "+ Analyze how rule changes and/or lockouts have impacted competitive balance in the NHL\n",
    "\n",
    "## Questions to Answer\n",
    "\n",
    "+ What is competitive balance? How can it be measured?\n",
    "+ What are key time periods in the NHL? Lockouts and/or major rule changes\n",
    "+ How has competitive balanced changed across the major time periods? Is there any statistical significance to the findings?"
   ]
  },
  {
   "cell_type": "markdown",
   "id": "2d49a559-ba33-403a-8e3f-26fb20aeddde",
   "metadata": {},
   "source": [
    "## NHL Standings Data\n",
    "\n",
    "We are querying the history of the NHL standings using a helper function that connects to the NHL stats API. There isn't a ton of documentation, but this [repo](https://github.com/dword4/nhlapi) is a great place to start for understanding what is available. \n",
    "\n",
    "First we use a function to query the games played (GP) and point percentage for each team in a single season , and then we iterate through each season in history using that function to collect all historical results. "
   ]
  },
  {
   "cell_type": "code",
   "execution_count": 5,
   "id": "57605a0d-bfc6-4994-a3ea-7fbe0b8ea0b8",
   "metadata": {},
   "outputs": [],
   "source": [
    "import requests\n",
    "from tqdm import tqdm\n",
    "import numpy as np\n",
    "import pandas as pd\n",
    "\n",
    "\n",
    "def fetch_season_summary(season: str):\n",
    "    \"\"\"\n",
    "    Query team standings for a given season.\n",
    "    \"\"\"\n",
    "    # dictionary holder for the season\n",
    "    season_standings = dict()\n",
    "\n",
    "    # api request\n",
    "    base_url = 'https://statsapi.web.nhl.com/api/v1/standings/byLeague'\n",
    "    season_id = f'?season={season}'\n",
    "    season = requests.get(base_url + season_id)\n",
    "    # throws an error for the missing lockout season\n",
    "    try:\n",
    "        season_records = season.json()['records'][0]\n",
    "\n",
    "        # extract results\n",
    "        season_standings['season'] = season_records['season']\n",
    "        season_standings['num_teams'] = len(season_records['teamRecords'])\n",
    "        results = [{\n",
    "            'team': team['team']['name'],\n",
    "            'gp': team['gamesPlayed'],\n",
    "            'points': team['points'],\n",
    "            'points_pct': team['pointsPercentage']\n",
    "        } for team in season_records['teamRecords']\n",
    "        ]\n",
    "        season_standings['standings_df'] = pd.DataFrame(results)\n",
    "        return season_standings\n",
    "    except Exception:\n",
    "        pass\n",
    "\n",
    "\n",
    "def fetch_season_history(start_season='19171918', end_season='20202021'):\n",
    "    \"\"\"\n",
    "    Query team standings for every season between start_season and end_season\n",
    "    (inclusive)\n",
    "    \"\"\"\n",
    "    # convert to ints for incrementing after each loop\n",
    "    start_season_start = int(start_season[:4])\n",
    "    start_season_end = int(start_season[-4:])\n",
    "    end_season_start = int(end_season[:4])\n",
    "    current_start = start_season_start\n",
    "    current_end = start_season_end\n",
    "    all_seasons = list()\n",
    "    for _ in tqdm(np.arange(start_season_start, end_season_start + 1)):\n",
    "        season = str(current_start) + str(current_end)\n",
    "        season_dict = fetch_season_summary(season)\n",
    "        if season_dict is not None:\n",
    "            all_seasons.append(season_dict)\n",
    "        current_start += 1\n",
    "        current_end += 1\n",
    "    return all_seasons"
   ]
  },
  {
   "cell_type": "code",
   "execution_count": 6,
   "id": "ecf0106d-c15e-4b72-ac09-df2311dfb9e4",
   "metadata": {},
   "outputs": [
    {
     "name": "stderr",
     "output_type": "stream",
     "text": [
      "100%|██████████| 104/104 [00:09<00:00, 11.17it/s]\n"
     ]
    }
   ],
   "source": [
    "all_seasons = fetch_season_history('19171918', '20202021')"
   ]
  },
  {
   "cell_type": "markdown",
   "id": "62878eb9-cf3b-4035-bf87-1897388d01fb",
   "metadata": {},
   "source": [
    "The innagural NHL season was in 1917-1918 with four teams. We can see the results below. "
   ]
  },
  {
   "cell_type": "code",
   "execution_count": 35,
   "id": "beccea00-257f-4836-b880-b022260ba89d",
   "metadata": {},
   "outputs": [
    {
     "data": {
      "text/plain": [
       "{'season': '19171918',\n",
       " 'num_teams': 4,\n",
       " 'standings_df':                      team  gp  points  points_pct\n",
       " 0      Montréal Canadiens  22      26    0.590909\n",
       " 1          Toronto Arenas  22      26    0.590909\n",
       " 2  Ottawa Senators (1917)  22      18    0.409091\n",
       " 3      Montreal Wanderers   6       2    0.166667}"
      ]
     },
     "execution_count": 35,
     "metadata": {},
     "output_type": "execute_result"
    }
   ],
   "source": [
    "# list of dict for each season\n",
    "all_seasons[0]"
   ]
  },
  {
   "cell_type": "markdown",
   "id": "1917497b-d3cb-474e-97d7-fba66fb4c9e2",
   "metadata": {},
   "source": [
    "Despite our progress bar showing 104 seasons, we only have 103 for analysis as the 2004-2005 season was lost due to a lockout. "
   ]
  },
  {
   "cell_type": "code",
   "execution_count": 8,
   "id": "1b7685a8-0b31-4fe4-b891-4c831fb320b7",
   "metadata": {},
   "outputs": [
    {
     "name": "stdout",
     "output_type": "stream",
     "text": [
      "Total seasons: 103\n"
     ]
    }
   ],
   "source": [
    "print(f'Total seasons: {len(all_seasons)}')"
   ]
  },
  {
   "cell_type": "markdown",
   "id": "75fadb67-319d-447c-9ef9-8c9e4c528672",
   "metadata": {},
   "source": [
    "## Calculating Competitive Balance\n",
    "\n",
    "There are two metrics we will use to analyze competitive balance:\n",
    "\n",
    "1. Within-season variation (regular season)\n",
    "2. HHI (championships)"
   ]
  },
  {
   "cell_type": "code",
   "execution_count": 41,
   "id": "e0185ad6-30c5-4a89-a705-0d523c2d8660",
   "metadata": {},
   "outputs": [],
   "source": [
    "def calculate_within_season_var(standings_df: pd.DataFrame):\n",
    "    \"\"\"\n",
    "    Calculate competitive balance for the season. This assumes that the ideal\n",
    "    point percentage is the average point percentage for the season, which may\n",
    "    not be 0.5.\n",
    "    \"\"\"\n",
    "    actual_std = standings_df.points_pct.std(ddof=0)\n",
    "    # assumes perfect balance is every team at mean\n",
    "    point_pct = standings_df.points.sum() / (standings_df.gp.sum() * 2)\n",
    "    gp = standings_df.gp.mean()\n",
    "    ideal_std = np.sqrt((point_pct * (1-point_pct))) / np.sqrt(gp)\n",
    "    max_points = standings_df.points_pct.max()\n",
    "    min_points = standings_df.points_pct.min()\n",
    "    return {\n",
    "        'gp': gp,\n",
    "        'point_pct_avg': np.round(point_pct, 6),\n",
    "        'actual_std': actual_std,\n",
    "        'ideal_std': ideal_std,\n",
    "        'ratio': actual_std / ideal_std\n",
    "    }"
   ]
  },
  {
   "cell_type": "markdown",
   "id": "05892508-4787-4638-9727-b8c44a96d30f",
   "metadata": {},
   "source": [
    "For each iteration in the list comprehension, we extract the season label and then unpack the competitive balance dictionary result. The results for each season are stored as a pandas dataframe. "
   ]
  },
  {
   "cell_type": "code",
   "execution_count": 45,
   "id": "0c374225-d6d2-417e-8d36-11e206d36c4e",
   "metadata": {},
   "outputs": [],
   "source": [
    "competitive_balance_df = pd.DataFrame([\n",
    "    {\n",
    "        'season': season['season'],\n",
    "        'num_teams': season['num_teams'],\n",
    "        **calculate_within_season_var(season['standings_df'])\n",
    "    }\n",
    "    for season in all_seasons\n",
    "])"
   ]
  },
  {
   "cell_type": "markdown",
   "id": "c63ace90-64ce-4a81-88c4-4c2e5d89362e",
   "metadata": {},
   "source": [
    "We can see the first few seasons had very little teams and games played. "
   ]
  },
  {
   "cell_type": "code",
   "execution_count": 46,
   "id": "e31e6416-7135-4d3d-931e-f30470d8824b",
   "metadata": {},
   "outputs": [
    {
     "data": {
      "text/html": [
       "<div>\n",
       "<style scoped>\n",
       "    .dataframe tbody tr th:only-of-type {\n",
       "        vertical-align: middle;\n",
       "    }\n",
       "\n",
       "    .dataframe tbody tr th {\n",
       "        vertical-align: top;\n",
       "    }\n",
       "\n",
       "    .dataframe thead th {\n",
       "        text-align: right;\n",
       "    }\n",
       "</style>\n",
       "<table border=\"1\" class=\"dataframe\">\n",
       "  <thead>\n",
       "    <tr style=\"text-align: right;\">\n",
       "      <th></th>\n",
       "      <th>season</th>\n",
       "      <th>num_teams</th>\n",
       "      <th>gp</th>\n",
       "      <th>point_pct_avg</th>\n",
       "      <th>actual_std</th>\n",
       "      <th>ideal_std</th>\n",
       "      <th>ratio</th>\n",
       "    </tr>\n",
       "  </thead>\n",
       "  <tbody>\n",
       "    <tr>\n",
       "      <th>0</th>\n",
       "      <td>19171918</td>\n",
       "      <td>4</td>\n",
       "      <td>18.0</td>\n",
       "      <td>0.5</td>\n",
       "      <td>0.174078</td>\n",
       "      <td>0.117851</td>\n",
       "      <td>1.477098</td>\n",
       "    </tr>\n",
       "    <tr>\n",
       "      <th>1</th>\n",
       "      <td>19181919</td>\n",
       "      <td>3</td>\n",
       "      <td>18.0</td>\n",
       "      <td>0.5</td>\n",
       "      <td>0.163551</td>\n",
       "      <td>0.117851</td>\n",
       "      <td>1.387777</td>\n",
       "    </tr>\n",
       "    <tr>\n",
       "      <th>2</th>\n",
       "      <td>19191920</td>\n",
       "      <td>4</td>\n",
       "      <td>24.0</td>\n",
       "      <td>0.5</td>\n",
       "      <td>0.222439</td>\n",
       "      <td>0.102062</td>\n",
       "      <td>2.179449</td>\n",
       "    </tr>\n",
       "    <tr>\n",
       "      <th>3</th>\n",
       "      <td>19201921</td>\n",
       "      <td>4</td>\n",
       "      <td>24.0</td>\n",
       "      <td>0.5</td>\n",
       "      <td>0.147314</td>\n",
       "      <td>0.102062</td>\n",
       "      <td>1.443376</td>\n",
       "    </tr>\n",
       "    <tr>\n",
       "      <th>4</th>\n",
       "      <td>19211922</td>\n",
       "      <td>4</td>\n",
       "      <td>24.0</td>\n",
       "      <td>0.5</td>\n",
       "      <td>0.125865</td>\n",
       "      <td>0.102062</td>\n",
       "      <td>1.233221</td>\n",
       "    </tr>\n",
       "  </tbody>\n",
       "</table>\n",
       "</div>"
      ],
      "text/plain": [
       "     season  num_teams    gp  point_pct_avg  actual_std  ideal_std     ratio\n",
       "0  19171918          4  18.0            0.5    0.174078   0.117851  1.477098\n",
       "1  19181919          3  18.0            0.5    0.163551   0.117851  1.387777\n",
       "2  19191920          4  24.0            0.5    0.222439   0.102062  2.179449\n",
       "3  19201921          4  24.0            0.5    0.147314   0.102062  1.443376\n",
       "4  19211922          4  24.0            0.5    0.125865   0.102062  1.233221"
      ]
     },
     "execution_count": 46,
     "metadata": {},
     "output_type": "execute_result"
    }
   ],
   "source": [
    "competitive_balance_df.head()"
   ]
  },
  {
   "cell_type": "markdown",
   "id": "d8676fa7-3278-466e-890e-8f658489b116",
   "metadata": {},
   "source": [
    "The most recent seasons were cut short due to COVID-19 and had a higher average points percentage due to points for overtime losses. "
   ]
  },
  {
   "cell_type": "code",
   "execution_count": 48,
   "id": "98a7ce99-e798-4c65-80d0-edf0537c0fe4",
   "metadata": {},
   "outputs": [
    {
     "data": {
      "text/html": [
       "<div>\n",
       "<style scoped>\n",
       "    .dataframe tbody tr th:only-of-type {\n",
       "        vertical-align: middle;\n",
       "    }\n",
       "\n",
       "    .dataframe tbody tr th {\n",
       "        vertical-align: top;\n",
       "    }\n",
       "\n",
       "    .dataframe thead th {\n",
       "        text-align: right;\n",
       "    }\n",
       "</style>\n",
       "<table border=\"1\" class=\"dataframe\">\n",
       "  <thead>\n",
       "    <tr style=\"text-align: right;\">\n",
       "      <th></th>\n",
       "      <th>season</th>\n",
       "      <th>num_teams</th>\n",
       "      <th>gp</th>\n",
       "      <th>point_pct_avg</th>\n",
       "      <th>actual_std</th>\n",
       "      <th>ideal_std</th>\n",
       "      <th>ratio</th>\n",
       "    </tr>\n",
       "  </thead>\n",
       "  <tbody>\n",
       "    <tr>\n",
       "      <th>98</th>\n",
       "      <td>20162017</td>\n",
       "      <td>30</td>\n",
       "      <td>82.000000</td>\n",
       "      <td>0.558740</td>\n",
       "      <td>0.090735</td>\n",
       "      <td>0.054833</td>\n",
       "      <td>1.654746</td>\n",
       "    </tr>\n",
       "    <tr>\n",
       "      <th>99</th>\n",
       "      <td>20172018</td>\n",
       "      <td>31</td>\n",
       "      <td>82.000000</td>\n",
       "      <td>0.558222</td>\n",
       "      <td>0.092602</td>\n",
       "      <td>0.054840</td>\n",
       "      <td>1.688573</td>\n",
       "    </tr>\n",
       "    <tr>\n",
       "      <th>100</th>\n",
       "      <td>20182019</td>\n",
       "      <td>31</td>\n",
       "      <td>82.000000</td>\n",
       "      <td>0.553304</td>\n",
       "      <td>0.081895</td>\n",
       "      <td>0.054901</td>\n",
       "      <td>1.491679</td>\n",
       "    </tr>\n",
       "    <tr>\n",
       "      <th>101</th>\n",
       "      <td>20192020</td>\n",
       "      <td>31</td>\n",
       "      <td>69.806452</td>\n",
       "      <td>0.557763</td>\n",
       "      <td>0.084668</td>\n",
       "      <td>0.059444</td>\n",
       "      <td>1.424336</td>\n",
       "    </tr>\n",
       "    <tr>\n",
       "      <th>102</th>\n",
       "      <td>20202021</td>\n",
       "      <td>31</td>\n",
       "      <td>56.000000</td>\n",
       "      <td>0.556164</td>\n",
       "      <td>0.115598</td>\n",
       "      <td>0.066392</td>\n",
       "      <td>1.741138</td>\n",
       "    </tr>\n",
       "  </tbody>\n",
       "</table>\n",
       "</div>"
      ],
      "text/plain": [
       "       season  num_teams         gp  point_pct_avg  actual_std  ideal_std  \\\n",
       "98   20162017         30  82.000000       0.558740    0.090735   0.054833   \n",
       "99   20172018         31  82.000000       0.558222    0.092602   0.054840   \n",
       "100  20182019         31  82.000000       0.553304    0.081895   0.054901   \n",
       "101  20192020         31  69.806452       0.557763    0.084668   0.059444   \n",
       "102  20202021         31  56.000000       0.556164    0.115598   0.066392   \n",
       "\n",
       "        ratio  \n",
       "98   1.654746  \n",
       "99   1.688573  \n",
       "100  1.491679  \n",
       "101  1.424336  \n",
       "102  1.741138  "
      ]
     },
     "execution_count": 48,
     "metadata": {},
     "output_type": "execute_result"
    }
   ],
   "source": [
    "competitive_balance_df.tail()"
   ]
  },
  {
   "cell_type": "markdown",
   "id": "fa1b5f41-3ff2-4a41-927c-fb2e5563c196",
   "metadata": {},
   "source": [
    "## Define Season Groupings"
   ]
  },
  {
   "cell_type": "code",
   "execution_count": 47,
   "id": "febfb79c-e3c0-4d1e-8418-a0c989cdc91c",
   "metadata": {},
   "outputs": [],
   "source": [
    "# ideas\n",
    "# original 6 era\n",
    "# expansion\n",
    "# dead puck era\n",
    "# shooutout added\n",
    "# 3v3 + shootout added"
   ]
  },
  {
   "cell_type": "markdown",
   "id": "e9b3d53b-f740-4689-9c33-6f0e0388a5d4",
   "metadata": {},
   "source": [
    "## Plot Ratio Over Time"
   ]
  },
  {
   "cell_type": "code",
   "execution_count": 33,
   "id": "ee5f333b-2fcb-461b-8a3b-7db83e75076b",
   "metadata": {},
   "outputs": [
    {
     "data": {
      "image/png": "[encoded data removed]",
      "text/plain": [
       "<Figure size 432x288 with 1 Axes>"
      ]
     },
     "metadata": {
      "needs_background": "light"
     },
     "output_type": "display_data"
    }
   ],
   "source": [
    "# replace with a plottly chart\n",
    "competitive_balance_df['year'] = competitive_balance_df['season'].str[-4:]\n",
    "competitive_balance_df.plot(x='year', y='ratio');"
   ]
  }
 ],
 "metadata": {
  "kernelspec": {
   "display_name": "nhlstatsapi",
   "language": "python",
   "name": "nhlstatsapi"
  },
  "language_info": {
   "codemirror_mode": {
    "name": "ipython",
    "version": 3
   },
   "file_extension": ".py",
   "mimetype": "text/x-python",
   "name": "python",
   "nbconvert_exporter": "python",
   "pygments_lexer": "ipython3",
   "version": "3.8.10"
  }
 },
 "nbformat": 4,
 "nbformat_minor": 5
}
